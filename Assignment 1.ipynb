{
 "cells": [
  {
   "cell_type": "markdown",
   "id": "1e5b7e6c",
   "metadata": {},
   "source": [
    "# Assignment  1.\n",
    "\n",
    "# Find out all the types of error that we have encountered in our lecture and why? Also include the examples."
   ]
  },
  {
   "cell_type": "code",
   "execution_count": 1,
   "id": "0813dd2e",
   "metadata": {},
   "outputs": [
    {
     "ename": "SyntaxError",
     "evalue": "EOL while scanning string literal (4065405247.py, line 2)",
     "output_type": "error",
     "traceback": [
      "\u001b[1;36m  File \u001b[1;32m\"C:\\Users\\urosh\\AppData\\Local\\Temp\\ipykernel_14564\\4065405247.py\"\u001b[1;36m, line \u001b[1;32m2\u001b[0m\n\u001b[1;33m    print(\"vinay)\u001b[0m\n\u001b[1;37m                 ^\u001b[0m\n\u001b[1;31mSyntaxError\u001b[0m\u001b[1;31m:\u001b[0m EOL while scanning string literal\n"
     ]
    }
   ],
   "source": [
    "# Syntax Error - We should have enter (\"vinay\") instead of (\"vinay) bcz string should be quoted\n",
    "print(\"vinay)"
   ]
  },
  {
   "cell_type": "code",
   "execution_count": 2,
   "id": "7d772961",
   "metadata": {},
   "outputs": [
    {
     "ename": "SyntaxError",
     "evalue": "EOF while scanning triple-quoted string literal (2951543957.py, line 3)",
     "output_type": "error",
     "traceback": [
      "\u001b[1;36m  File \u001b[1;32m\"C:\\Users\\urosh\\AppData\\Local\\Temp\\ipykernel_14564\\2951543957.py\"\u001b[1;36m, line \u001b[1;32m3\u001b[0m\n\u001b[1;33m    morning)\u001b[0m\n\u001b[1;37m            \n^\u001b[0m\n\u001b[1;31mSyntaxError\u001b[0m\u001b[1;31m:\u001b[0m EOF while scanning triple-quoted string literal\n"
     ]
    }
   ],
   "source": [
    "# Syntax Error - if we change the line we should use triple quoted\n",
    "print(\"\"\"good\n",
    "morning)"
   ]
  },
  {
   "cell_type": "code",
   "execution_count": 3,
   "id": "686fd652",
   "metadata": {},
   "outputs": [
    {
     "ename": "SyntaxError",
     "evalue": "invalid syntax (2995781634.py, line 2)",
     "output_type": "error",
     "traceback": [
      "\u001b[1;36m  File \u001b[1;32m\"C:\\Users\\urosh\\AppData\\Local\\Temp\\ipykernel_14564\\2995781634.py\"\u001b[1;36m, line \u001b[1;32m2\u001b[0m\n\u001b[1;33m    print(\"my name is \"Roshan\" \")\u001b[0m\n\u001b[1;37m                       ^\u001b[0m\n\u001b[1;31mSyntaxError\u001b[0m\u001b[1;31m:\u001b[0m invalid syntax\n"
     ]
    }
   ],
   "source": [
    "# Syntax Error - It shows error bcz we cannot use another double quoted string in double quoted string\n",
    "print(\"my name is \"Roshan\" \")"
   ]
  },
  {
   "cell_type": "code",
   "execution_count": 4,
   "id": "e08f89fe",
   "metadata": {},
   "outputs": [
    {
     "ename": "SyntaxError",
     "evalue": "invalid syntax (1419200038.py, line 2)",
     "output_type": "error",
     "traceback": [
      "\u001b[1;36m  File \u001b[1;32m\"C:\\Users\\urosh\\AppData\\Local\\Temp\\ipykernel_14564\\1419200038.py\"\u001b[1;36m, line \u001b[1;32m2\u001b[0m\n\u001b[1;33m    @ten = 10\u001b[0m\n\u001b[1;37m         ^\u001b[0m\n\u001b[1;31mSyntaxError\u001b[0m\u001b[1;31m:\u001b[0m invalid syntax\n"
     ]
    }
   ],
   "source": [
    "# Syntax Error - We cannot start the code with special words like @,$,%, etc\n",
    "@ten = 10"
   ]
  },
  {
   "cell_type": "code",
   "execution_count": 5,
   "id": "c13a0c7c",
   "metadata": {},
   "outputs": [
    {
     "ename": "TypeError",
     "evalue": "can only concatenate str (not \"int\") to str",
     "output_type": "error",
     "traceback": [
      "\u001b[1;31m---------------------------------------------------------------------------\u001b[0m",
      "\u001b[1;31mTypeError\u001b[0m                                 Traceback (most recent call last)",
      "\u001b[1;32m~\\AppData\\Local\\Temp\\ipykernel_14564\\1691353077.py\u001b[0m in \u001b[0;36m<module>\u001b[1;34m\u001b[0m\n\u001b[0;32m      1\u001b[0m \u001b[1;31m# Type error - it shows type error bcz we cannot concatenate string to integer\u001b[0m\u001b[1;33m\u001b[0m\u001b[1;33m\u001b[0m\u001b[0m\n\u001b[1;32m----> 2\u001b[1;33m \u001b[1;34m\"day\"\u001b[0m \u001b[1;33m+\u001b[0m \u001b[1;36m1\u001b[0m\u001b[1;33m\u001b[0m\u001b[1;33m\u001b[0m\u001b[0m\n\u001b[0m",
      "\u001b[1;31mTypeError\u001b[0m: can only concatenate str (not \"int\") to str"
     ]
    }
   ],
   "source": [
    "# Type error - it shows type error bcz we cannot concatenate string to integer \n",
    "\"day\" + 1"
   ]
  },
  {
   "cell_type": "code",
   "execution_count": 6,
   "id": "a7598f6d",
   "metadata": {},
   "outputs": [
    {
     "ename": "NameError",
     "evalue": "name 'TEN' is not defined",
     "output_type": "error",
     "traceback": [
      "\u001b[1;31m---------------------------------------------------------------------------\u001b[0m",
      "\u001b[1;31mNameError\u001b[0m                                 Traceback (most recent call last)",
      "\u001b[1;32m~\\AppData\\Local\\Temp\\ipykernel_14564\\1589609701.py\u001b[0m in \u001b[0;36m<module>\u001b[1;34m\u001b[0m\n\u001b[0;32m      1\u001b[0m \u001b[1;31m# Name Error - This is variable case sensitivity, here Ten and TEN are not same.TEN and Ten define different values.\u001b[0m\u001b[1;33m\u001b[0m\u001b[1;33m\u001b[0m\u001b[0m\n\u001b[0;32m      2\u001b[0m \u001b[0mTen\u001b[0m \u001b[1;33m=\u001b[0m \u001b[1;36m10\u001b[0m\u001b[1;33m\u001b[0m\u001b[1;33m\u001b[0m\u001b[0m\n\u001b[1;32m----> 3\u001b[1;33m \u001b[0mprint\u001b[0m\u001b[1;33m(\u001b[0m\u001b[0mTEN\u001b[0m\u001b[1;33m)\u001b[0m\u001b[1;33m\u001b[0m\u001b[1;33m\u001b[0m\u001b[0m\n\u001b[0m",
      "\u001b[1;31mNameError\u001b[0m: name 'TEN' is not defined"
     ]
    }
   ],
   "source": [
    "# Name Error - This is variable case sensitivity, here Ten and TEN are not same.TEN and Ten define different values.\n",
    "Ten = 10\n",
    "print(TEN)"
   ]
  },
  {
   "cell_type": "code",
   "execution_count": 7,
   "id": "5a22b0ae",
   "metadata": {},
   "outputs": [
    {
     "name": "stdout",
     "output_type": "stream",
     "text": [
      "data type before: <class 'str'>, value of A: 50.20\n"
     ]
    },
    {
     "ename": "ValueError",
     "evalue": "invalid literal for int() with base 10: '50.20'",
     "output_type": "error",
     "traceback": [
      "\u001b[1;31m---------------------------------------------------------------------------\u001b[0m",
      "\u001b[1;31mValueError\u001b[0m                                Traceback (most recent call last)",
      "\u001b[1;32m~\\AppData\\Local\\Temp\\ipykernel_14564\\970979902.py\u001b[0m in \u001b[0;36m<module>\u001b[1;34m\u001b[0m\n\u001b[0;32m      2\u001b[0m \u001b[0mA\u001b[0m \u001b[1;33m=\u001b[0m \u001b[1;34m\"50.20\"\u001b[0m\u001b[1;33m\u001b[0m\u001b[1;33m\u001b[0m\u001b[0m\n\u001b[0;32m      3\u001b[0m \u001b[0mprint\u001b[0m\u001b[1;33m(\u001b[0m\u001b[1;34mf\"data type before: {type(A)}, value of A: {A}\"\u001b[0m\u001b[1;33m)\u001b[0m\u001b[1;33m\u001b[0m\u001b[1;33m\u001b[0m\u001b[0m\n\u001b[1;32m----> 4\u001b[1;33m \u001b[0mA\u001b[0m \u001b[1;33m=\u001b[0m \u001b[0mint\u001b[0m\u001b[1;33m(\u001b[0m\u001b[0mA\u001b[0m\u001b[1;33m)\u001b[0m\u001b[1;33m\u001b[0m\u001b[1;33m\u001b[0m\u001b[0m\n\u001b[0m\u001b[0;32m      5\u001b[0m \u001b[0mprint\u001b[0m\u001b[1;33m(\u001b[0m\u001b[1;34mf\"data type after: {type(A)}, value of A: {A}\"\u001b[0m\u001b[1;33m)\u001b[0m\u001b[1;33m\u001b[0m\u001b[1;33m\u001b[0m\u001b[0m\n",
      "\u001b[1;31mValueError\u001b[0m: invalid literal for int() with base 10: '50.20'"
     ]
    }
   ],
   "source": [
    "# Value Error - this shows error bcz if we convert string into integer then string has to be in integers form\n",
    "A = \"50.20\"\n",
    "print(f\"data type before: {type(A)}, value of A: {A}\")\n",
    "A = int(A)\n",
    "print(f\"data type after: {type(A)}, value of A: {A}\")"
   ]
  },
  {
   "cell_type": "code",
   "execution_count": 1,
   "id": "852049d8",
   "metadata": {},
   "outputs": [
    {
     "name": "stdout",
     "output_type": "stream",
     "text": [
      "name: Roshan\n",
      "year_of_birth: Upadhyay\n"
     ]
    },
    {
     "ename": "TypeError",
     "evalue": "unsupported operand type(s) for -: 'int' and 'str'",
     "output_type": "error",
     "traceback": [
      "\u001b[1;31m---------------------------------------------------------------------------\u001b[0m",
      "\u001b[1;31mTypeError\u001b[0m                                 Traceback (most recent call last)",
      "\u001b[1;32m~\\AppData\\Local\\Temp\\ipykernel_12052\\2297790370.py\u001b[0m in \u001b[0;36m<module>\u001b[1;34m\u001b[0m\n\u001b[0;32m      5\u001b[0m \u001b[0myear_of_birth\u001b[0m \u001b[1;33m=\u001b[0m \u001b[0minput\u001b[0m\u001b[1;33m(\u001b[0m\u001b[1;34m\"year_of_birth: \"\u001b[0m\u001b[1;33m)\u001b[0m\u001b[1;33m\u001b[0m\u001b[1;33m\u001b[0m\u001b[0m\n\u001b[0;32m      6\u001b[0m \u001b[1;33m\u001b[0m\u001b[0m\n\u001b[1;32m----> 7\u001b[1;33m \u001b[0mage\u001b[0m \u001b[1;33m=\u001b[0m \u001b[1;36m2022\u001b[0m \u001b[1;33m-\u001b[0m \u001b[1;33m(\u001b[0m\u001b[0myear_of_birth\u001b[0m\u001b[1;33m)\u001b[0m\u001b[1;33m\u001b[0m\u001b[1;33m\u001b[0m\u001b[0m\n\u001b[0m\u001b[0;32m      8\u001b[0m \u001b[1;33m\u001b[0m\u001b[0m\n\u001b[0;32m      9\u001b[0m \u001b[0mprint\u001b[0m\u001b[1;33m(\u001b[0m\u001b[1;34mf\"{name} is of age: {age}\"\u001b[0m\u001b[1;33m)\u001b[0m\u001b[1;33m\u001b[0m\u001b[1;33m\u001b[0m\u001b[0m\n",
      "\u001b[1;31mTypeError\u001b[0m: unsupported operand type(s) for -: 'int' and 'str'"
     ]
    }
   ],
   "source": [
    "# Type Error - Age is in integers form and here its in string that's why it shows error\n",
    "\n",
    "# calculating age\n",
    "name = input(\"name: \")\n",
    "year_of_birth = input(\"year_of_birth: \")\n",
    "\n",
    "age = 2022 - (year_of_birth)\n",
    "\n",
    "print(f\"{name} is of age: {age}\")"
   ]
  },
  {
   "cell_type": "code",
   "execution_count": 2,
   "id": "18b01763",
   "metadata": {},
   "outputs": [
    {
     "ename": "AttributeError",
     "evalue": "'str' object has no attribute 'centre'",
     "output_type": "error",
     "traceback": [
      "\u001b[1;31m---------------------------------------------------------------------------\u001b[0m",
      "\u001b[1;31mAttributeError\u001b[0m                            Traceback (most recent call last)",
      "\u001b[1;32m~\\AppData\\Local\\Temp\\ipykernel_15428\\3234574013.py\u001b[0m in \u001b[0;36m<module>\u001b[1;34m\u001b[0m\n\u001b[0;32m      1\u001b[0m \u001b[0mname\u001b[0m \u001b[1;33m=\u001b[0m \u001b[1;34m\"Roshan\"\u001b[0m\u001b[1;33m\u001b[0m\u001b[1;33m\u001b[0m\u001b[0m\n\u001b[1;32m----> 2\u001b[1;33m \u001b[0mname\u001b[0m\u001b[1;33m.\u001b[0m\u001b[0mcentre\u001b[0m\u001b[1;33m(\u001b[0m\u001b[1;36m20\u001b[0m\u001b[1;33m,\u001b[0m\u001b[1;34m\"#\"\u001b[0m\u001b[1;33m)\u001b[0m\u001b[1;33m\u001b[0m\u001b[1;33m\u001b[0m\u001b[0m\n\u001b[0m",
      "\u001b[1;31mAttributeError\u001b[0m: 'str' object has no attribute 'centre'"
     ]
    }
   ],
   "source": [
    "# Attribute Error: entering 'center' instead of 'centre'\n",
    "name = \"Roshan\"\n",
    "name.centre(20,\"#\")"
   ]
  },
  {
   "cell_type": "code",
   "execution_count": 4,
   "id": "386d353c",
   "metadata": {},
   "outputs": [
    {
     "data": {
      "text/plain": [
       "'#######Roshan#######'"
      ]
     },
     "execution_count": 4,
     "metadata": {},
     "output_type": "execute_result"
    }
   ],
   "source": [
    "name = \"Roshan\"  # this is the correct\n",
    "name.center(20,\"#\")"
   ]
  },
  {
   "cell_type": "markdown",
   "id": "4d7d43f4",
   "metadata": {},
   "source": [
    "# Take input A and B and print their sum, mul, div, square of nos."
   ]
  },
  {
   "cell_type": "code",
   "execution_count": 2,
   "id": "272df64a",
   "metadata": {},
   "outputs": [
    {
     "name": "stdout",
     "output_type": "stream",
     "text": [
      "Enter value of A : 12\n",
      "Enter value of B : 10\n",
      "Sum of A and B is:22\n"
     ]
    }
   ],
   "source": [
    "A = int(input(\"Enter value of A : \"))\n",
    "B = int(input(\"Enter value of B : \"))\n",
    "\n",
    "print(f\"Sum of A and B is:{A+B}\")"
   ]
  },
  {
   "cell_type": "code",
   "execution_count": 3,
   "id": "7faf48c4",
   "metadata": {},
   "outputs": [
    {
     "name": "stdout",
     "output_type": "stream",
     "text": [
      "Enter value of A : 12\n",
      "Enter value of B : 10\n",
      "Multiplication of A and B is:120\n"
     ]
    }
   ],
   "source": [
    "A = int(input(\"Enter value of A : \"))\n",
    "B = int(input(\"Enter value of B : \"))\n",
    "\n",
    "print(f\"Multiplication of A and B is:{A*B}\")"
   ]
  },
  {
   "cell_type": "code",
   "execution_count": 4,
   "id": "1ba07bc1",
   "metadata": {},
   "outputs": [
    {
     "name": "stdout",
     "output_type": "stream",
     "text": [
      "Enter value of A : 12\n",
      "Enter value of B : 10\n",
      "Division of A and B is:1.2\n"
     ]
    }
   ],
   "source": [
    "A = int(input(\"Enter value of A : \"))\n",
    "B = int(input(\"Enter value of B : \"))\n",
    "\n",
    "print(f\"Division of A and B is:{A/B}\")"
   ]
  },
  {
   "cell_type": "code",
   "execution_count": 5,
   "id": "bd1ef106",
   "metadata": {},
   "outputs": [
    {
     "name": "stdout",
     "output_type": "stream",
     "text": [
      "Enter value of A : 12\n",
      "Enter value of B : 2\n",
      "Square of A and B is:144\n"
     ]
    }
   ],
   "source": [
    "A = int(input(\"Enter value of A : \"))\n",
    "B = int(input(\"Enter value of B : \"))\n",
    "\n",
    "print(f\"Square of A and B is:{A**B}\")"
   ]
  },
  {
   "cell_type": "markdown",
   "id": "beb64b7d",
   "metadata": {},
   "source": [
    "# How many reserve key words are there in python and why we should not use them as a variable name"
   ]
  },
  {
   "cell_type": "code",
   "execution_count": null,
   "id": "7e223b80",
   "metadata": {},
   "outputs": [],
   "source": [
    "# Reserve keywords have predefined meaning and syntax in the language.\n",
    "# Reserved words can't be used as identifiers for other programming elements like name of variable, function etc.\n",
    "# Python will raise an error if you try to assign a value to any of those keywords.\n",
    "# There are 32 reserve keywords are in python which are followings as:\n",
    "and       del       from      not       while    \n",
    "as        elif      global    or        with     \n",
    "assert    else      if        pass      yield    \n",
    "break     except    import    print              \n",
    "class     exec      in        raise              \n",
    "continue  finally   is        return             \n",
    "def       for       lambda    try"
   ]
  },
  {
   "cell_type": "markdown",
   "id": "49d12058",
   "metadata": {},
   "source": [
    "# Create email ids with the user inputs."
   ]
  },
  {
   "cell_type": "code",
   "execution_count": 7,
   "id": "87852d6b",
   "metadata": {},
   "outputs": [],
   "source": [
    "lastname, firstname = \"upadhyay\", \"roshan\""
   ]
  },
  {
   "cell_type": "code",
   "execution_count": 9,
   "id": "829927b1",
   "metadata": {},
   "outputs": [
    {
     "name": "stdout",
     "output_type": "stream",
     "text": [
      "upadhyay.roshan@gmail.com\n"
     ]
    }
   ],
   "source": [
    "print(f\"{lastname}.{firstname}@gmail.com\")"
   ]
  },
  {
   "cell_type": "markdown",
   "id": "50fa40e3",
   "metadata": {},
   "source": [
    "# Print the following lines:\n",
    "## Hi I'm Roshan\n",
    "## My  address is 63/4B/1\n",
    "## I learn some important lesson"
   ]
  },
  {
   "cell_type": "code",
   "execution_count": 10,
   "id": "be0e576d",
   "metadata": {},
   "outputs": [
    {
     "name": "stdout",
     "output_type": "stream",
     "text": [
      "\n",
      "Hi I'm Roshan\n",
      "My address is 63/4B/1\n",
      "I learn some important lesson\n",
      "\n"
     ]
    }
   ],
   "source": [
    "print(\"\"\"\n",
    "Hi I'm Roshan\n",
    "My address is 63/4B/1\n",
    "I learn some important lesson\n",
    "\"\"\")"
   ]
  },
  {
   "cell_type": "markdown",
   "id": "3d841e5e",
   "metadata": {},
   "source": [
    "# Take user input(name,address,date of birth etc) to fill a form for your college and print their email IDs"
   ]
  },
  {
   "cell_type": "code",
   "execution_count": 2,
   "id": "1852fc90",
   "metadata": {},
   "outputs": [
    {
     "name": "stdout",
     "output_type": "stream",
     "text": [
      "Enter your First name: Roshan\n",
      "Enter your Last name: Upadhyay\n",
      "Enter your place: Amari\n",
      "Enter your post office: Amarhat\n",
      "Enter your District: Mau\n",
      "Enter your State: Uttar Pradesh\n",
      "Enter your Pin Code: 276403\n",
      "Enter your date of birth20/09/2002\n",
      "Enter your Stream: Science\n",
      "\n",
      "My First name is: Roshan\n",
      "My Last name is: Upadhyay\n",
      "I live at: Amari\n",
      "My post office is: Amarhat\n",
      "my District is: Mau\n",
      "State name is: Uttar Pradesh\n",
      "My Pin_Code is: 276403\n",
      "date of birth is: 20/09/2002\n",
      "Roshan belongs to Science stream\n",
      "My email ID is: roshan.upadhyay@gmail.com\n",
      "\n"
     ]
    }
   ],
   "source": [
    "First_name = input(\"Enter your First name: \")\n",
    "Last_name = input(\"Enter your Last name: \")\n",
    "village = input(\"Enter your place: \")\n",
    "post_office = input(\"Enter your post office: \")\n",
    "District = input(\"Enter your District: \")\n",
    "State = input(\"Enter your State: \")\n",
    "Pin_Code = input(\"Enter your Pin Code: \")\n",
    "date_of_birth = input(\"Enter your date of birth\")\n",
    "Stream = input(\"Enter your Stream: \")\n",
    "\n",
    "print(f\"\"\"\n",
    "My First name is: {First_name}\n",
    "My Last name is: {Last_name}\n",
    "I live at: {village}\n",
    "My post office is: {post_office}\n",
    "my District is: {District}\n",
    "State name is: {State}\n",
    "My Pin_Code is: {Pin_Code}\n",
    "date of birth is: {date_of_birth}\n",
    "{First_name} belongs to {Stream} stream\n",
    "My email ID is: {(First_name).lower()}.{(Last_name).lower()}@gmail.com\n",
    "\"\"\")"
   ]
  },
  {
   "cell_type": "markdown",
   "id": "d6e3a599",
   "metadata": {},
   "source": [
    "# # Creating email IDs"
   ]
  },
  {
   "cell_type": "code",
   "execution_count": 7,
   "id": "90370d72",
   "metadata": {},
   "outputs": [],
   "source": [
    "firstname, lastname = \"Roshan\", \"Upadhyay\"\n"
   ]
  },
  {
   "cell_type": "code",
   "execution_count": 8,
   "id": "9aabb1cc",
   "metadata": {},
   "outputs": [
    {
     "name": "stdout",
     "output_type": "stream",
     "text": [
      "Roshan.Upadhyay@gmail.com\n"
     ]
    }
   ],
   "source": [
    "print(f\"{firstname}.{lastname}@gmail.com\")"
   ]
  },
  {
   "cell_type": "markdown",
   "id": "8cbda873",
   "metadata": {},
   "source": [
    "# # Convert the following:\n"
   ]
  },
  {
   "cell_type": "markdown",
   "id": "a98951a8",
   "metadata": {},
   "source": [
    "# # \"22.4\" into integer"
   ]
  },
  {
   "cell_type": "code",
   "execution_count": 10,
   "id": "4c7f4bb9",
   "metadata": {},
   "outputs": [
    {
     "name": "stdout",
     "output_type": "stream",
     "text": [
      "data type before: <class 'str'>, value of A: 22.4\n",
      "data type after: <class 'float'>, value of A: 22.4\n"
     ]
    }
   ],
   "source": [
    "# string into float\n",
    "A = \"22.4\"\n",
    "print(f\"data type before: {type(A)}, value of A: {A}\")\n",
    "A = float(A)\n",
    "print(f\"data type after: {type(A)}, value of A: {A}\")"
   ]
  },
  {
   "cell_type": "code",
   "execution_count": 9,
   "id": "93c2d9ec",
   "metadata": {},
   "outputs": [
    {
     "name": "stdout",
     "output_type": "stream",
     "text": [
      "data type before: <class 'float'>, value of A: 22.4\n",
      "data type after: <class 'int'>, value of A: 22\n"
     ]
    }
   ],
   "source": [
    "# float into integer\n",
    "A = 22.4\n",
    "print(f\"data type before: {type(A)}, value of A: {A}\")\n",
    "A = int(A)\n",
    "print(f\"data type after: {type(A)}, value of A: {A}\")"
   ]
  },
  {
   "cell_type": "markdown",
   "id": "3242592b",
   "metadata": {},
   "source": [
    "# # \"22\" into complex no"
   ]
  },
  {
   "cell_type": "code",
   "execution_count": 11,
   "id": "4f48da3b",
   "metadata": {},
   "outputs": [
    {
     "name": "stdout",
     "output_type": "stream",
     "text": [
      "data type before: <class 'str'>, value of A: 22\n",
      "data type after: <class 'complex'>, value of A: (22+0j)\n"
     ]
    }
   ],
   "source": [
    "# string into float\n",
    "A = \"22\"\n",
    "print(f\"data type before: {type(A)}, value of A: {A}\")\n",
    "A = complex(A)\n",
    "print(f\"data type after: {type(A)}, value of A: {A}\")"
   ]
  },
  {
   "cell_type": "code",
   "execution_count": null,
   "id": "4bf7b3f7",
   "metadata": {},
   "outputs": [],
   "source": []
  }
 ],
 "metadata": {
  "kernelspec": {
   "display_name": "Python 3 (ipykernel)",
   "language": "python",
   "name": "python3"
  },
  "language_info": {
   "codemirror_mode": {
    "name": "ipython",
    "version": 3
   },
   "file_extension": ".py",
   "mimetype": "text/x-python",
   "name": "python",
   "nbconvert_exporter": "python",
   "pygments_lexer": "ipython3",
   "version": "3.9.13"
  }
 },
 "nbformat": 4,
 "nbformat_minor": 5
}
